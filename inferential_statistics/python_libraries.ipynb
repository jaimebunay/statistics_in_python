{
 "cells": [
  {
   "cell_type": "markdown",
   "id": "9b214fe5-6542-45b7-8ce7-d652ad22ffa2",
   "metadata": {},
   "source": [
    "# Exploring Python Data Science Libraries\n",
    "In this notebook we will explore some of the Python data science libraries"
   ]
  },
  {
   "cell_type": "markdown",
   "id": "d9435b0a-2b0c-4303-bf6d-36598702ce79",
   "metadata": {},
   "source": [
    "## Numpy\n",
    "[NumPy](https://numpy.org/about/) is an open source project aiming to enable numerical computing with Python"
   ]
  },
  {
   "cell_type": "code",
   "execution_count": 1,
   "id": "67eb758b-af4b-43b3-9046-f314dd80382a",
   "metadata": {},
   "outputs": [],
   "source": [
    "# import numpy \n",
    "import numpy as np\n",
    "import warnings\n",
    "warnings.filterwarnings(\"ignore\")"
   ]
  },
  {
   "cell_type": "code",
   "execution_count": 2,
   "id": "b8623e8a-fae3-42bf-89c4-756a390eb0d3",
   "metadata": {},
   "outputs": [
    {
     "name": "stdout",
     "output_type": "stream",
     "text": [
      "['not_equal', 'numarray', 'number', 'obj2sctype', 'object0', 'object_', 'ogrid', 'oldnumeric', 'ones', 'ones_like', 'os', 'outer', 'packbits', 'pad', 'partition', 'percentile', 'pi', 'piecewise', 'place', 'poly', 'poly1d', 'polyadd', 'polyder', 'polydiv', 'polyfit', 'polyint', 'polymul', 'polynomial', 'polysub', 'polyval', 'positive', 'power', 'printoptions', 'prod', 'product', 'promote_types', 'ptp', 'put', 'put_along_axis', 'putmask', 'quantile', 'r_', 'rad2deg', 'radians', 'random', 'ravel', 'ravel_multi_index', 'real', 'real_if_close', 'rec']\n"
     ]
    }
   ],
   "source": [
    "# check some of the different funtions/methods available in numpy\n",
    "print([x for x in dir(np) if not x.startswith('__') and not x.startswith('_')][400:450])"
   ]
  },
  {
   "cell_type": "markdown",
   "id": "9b2cc74e-6081-485c-a9d4-c39be894f2ce",
   "metadata": {},
   "source": [
    "##### Creating arrays"
   ]
  },
  {
   "cell_type": "code",
   "execution_count": 3,
   "id": "9e3ea262-3ae0-4069-8044-9c66f2d76a53",
   "metadata": {},
   "outputs": [
    {
     "name": "stdout",
     "output_type": "stream",
     "text": [
      "(6,)\n",
      "<class 'numpy.ndarray'>\n",
      "int32\n",
      "1 3 9 12 15 18 "
     ]
    }
   ],
   "source": [
    "# Create a one dimensional arrary \n",
    "a = np.array([1,3,9,12,15,18])\n",
    "\n",
    "# print object shape\n",
    "print(a.shape)\n",
    "\n",
    "# print object type\n",
    "print(type(a))\n",
    "\n",
    "# print the type  of objects stored in the array \n",
    "print(a.dtype)\n",
    "\n",
    "# print the values in the array\n",
    "for i in a: \n",
    "    print(i,end=\" \")"
   ]
  },
  {
   "cell_type": "code",
   "execution_count": 4,
   "id": "c8d0a968-9c0e-4886-afc8-916579509b85",
   "metadata": {},
   "outputs": [
    {
     "name": "stdout",
     "output_type": "stream",
     "text": [
      "(2, 3)\n",
      "<class 'numpy.ndarray'>\n",
      "int32\n",
      "[1 3 9] [12 15 18] \n",
      "1 3 9 12 15 18 "
     ]
    }
   ],
   "source": [
    "# Create a two dimensional array\n",
    "a = np.array([[1,3,9],[12,15,18]])\n",
    "\n",
    "# print object shape\n",
    "print(a.shape)\n",
    "\n",
    "# print object type\n",
    "print(type(a))\n",
    "\n",
    "# print the type  of objects stored in the array \n",
    "print(a.dtype)\n",
    "\n",
    "# print the values in the array\n",
    "for i in a: \n",
    "    print(i, end=\" \")\n",
    "\n",
    "# print the inner values of each array\n",
    "print()\n",
    "for i in a:\n",
    "    for x in i: \n",
    "        print(x, end=' ')"
   ]
  },
  {
   "cell_type": "code",
   "execution_count": 5,
   "id": "7c24f6bb-a33f-43a3-a07c-488aff04d157",
   "metadata": {},
   "outputs": [
    {
     "name": "stdout",
     "output_type": "stream",
     "text": [
      "(3, 3)\n",
      "<class 'numpy.ndarray'>\n",
      "float64\n",
      "[0. 0. 0.] [0. 0. 0.] [0. 0. 0.] \n",
      "0.0 0.0 0.0 0.0 0.0 0.0 0.0 0.0 0.0 "
     ]
    }
   ],
   "source": [
    "# Create a 3x3 zero array \n",
    "a = np.zeros((3,3))\n",
    "\n",
    "# print object shape\n",
    "print(a.shape)\n",
    "\n",
    "# print object type\n",
    "print(type(a))\n",
    "\n",
    "# print the type  of objects stored in the array \n",
    "print(a.dtype)\n",
    "\n",
    "# print the values in the array\n",
    "for i in a: \n",
    "    print(i, end=\" \")\n",
    "\n",
    "# print the inner values of each array\n",
    "print()\n",
    "for i in a:\n",
    "    for x in i: \n",
    "        print(x, end=' ')"
   ]
  },
  {
   "cell_type": "markdown",
   "id": "bd5739b4-e72c-4d8f-850c-ba62c8aa2be4",
   "metadata": {},
   "source": [
    "##### Array Math"
   ]
  },
  {
   "cell_type": "code",
   "execution_count": 6,
   "id": "dd729c79-75e8-4fa9-bb50-e80531efc6df",
   "metadata": {},
   "outputs": [
    {
     "name": "stdout",
     "output_type": "stream",
     "text": [
      "SUM of two arrays \n",
      " [[ 2.  7. 17.]\n",
      " [24. 31. 38.]]\n",
      "SUBTRACTION of two arrays\n",
      " [[ 0. -1.  1.]\n",
      " [ 0. -1. -2.]]\n",
      "PRODUCT of two arrays\n",
      " [[  1.  12.  72.]\n",
      " [144. 240. 360.]]\n",
      "a array to the power of 2 \n",
      " [[  1.   9.  81.]\n",
      " [144. 225. 324.]]\n",
      "square root of a array\n",
      " [[1.         1.73205081 3.        ]\n",
      " [3.46410162 3.87298335 4.24264069]]\n"
     ]
    }
   ],
   "source": [
    "a = [[1,3,9],[12,15,18]]\n",
    "b = [[1,4,8],[12,16,20]]\n",
    "\n",
    "a = np.array(a, dtype=np.float64)\n",
    "b = np.array(b, dtype=np.float64)\n",
    "\n",
    "# element wise sum \n",
    "print('SUM of two arrays \\n', a+b)\n",
    "\n",
    "# element wise difference \n",
    "print('SUBTRACTION of two arrays\\n', a-b)\n",
    "\n",
    "# element wise product\n",
    "print('PRODUCT of two arrays\\n', a*b)\n",
    "\n",
    "# a array to the power of 2\n",
    "print('a array to the power of 2 \\n', np.power(a,2))\n",
    "\n",
    "# square root of a array\n",
    "print('square root of a array\\n', np.sqrt(a))"
   ]
  },
  {
   "cell_type": "code",
   "execution_count": 7,
   "id": "05a8b877-03fa-484f-85c8-1dd689660135",
   "metadata": {},
   "outputs": [
    {
     "name": "stdout",
     "output_type": "stream",
     "text": [
      "[[14 16]\n",
      " [11 12]\n",
      " [16 18]]\n",
      "sum of array: 87\n",
      "mean of array: 14.5\n",
      "mean of each row: [15.  11.5 17. ]\n",
      "mean of each column: [13.66666667 15.33333333]\n"
     ]
    }
   ],
   "source": [
    "# generate random intergers between 10-20, shape 3x2\n",
    "a = np.random.randint(low=10, high=20, size=(3,2))\n",
    "\n",
    "# print array\n",
    "print(a)\n",
    "\n",
    "# print sum of array\n",
    "print(f'sum of array: {np.sum(a)}')\n",
    "\n",
    "# print mean of array \n",
    "print(f'mean of array: {np.mean(a)}')\n",
    "\n",
    "# print mean of each row\n",
    "print(f'mean of each row: {np.mean(a,axis=1)}')\n",
    "\n",
    "# print mean of each column\n",
    "print(f'mean of each column: {np.mean(a, axis=0)}')"
   ]
  },
  {
   "cell_type": "markdown",
   "id": "3a3a197e-161a-4a70-a099-a01000cb6746",
   "metadata": {},
   "source": [
    "---\n",
    "## SciPy\n",
    "[SciPy](https://www.scipy.org/) is a Python-based ecosystem of open-source software for mathematics, science, and engineering"
   ]
  },
  {
   "cell_type": "code",
   "execution_count": 8,
   "id": "cc74cfdd-5347-40c3-9d37-46278020cf41",
   "metadata": {},
   "outputs": [],
   "source": [
    "# import stats library from SciPy\n",
    "from scipy import stats"
   ]
  },
  {
   "cell_type": "code",
   "execution_count": 9,
   "id": "50c86215-e13f-427a-8ab4-f22c0c5996e2",
   "metadata": {},
   "outputs": [
    {
     "name": "stdout",
     "output_type": "stream",
     "text": [
      "['multivariate_hypergeom', 'multivariate_normal', 'multivariate_t', 'mvn', 'mvsdist', 'nakagami', 'nbinom', 'ncf', 'nct', 'ncx2', 'nhypergeom', 'norm', 'normaltest', 'norminvgauss', 'obrientransform', 'ortho_group', 'pareto', 'pearson3', 'pearsonr', 'percentileofscore', 'planck', 'pointbiserialr', 'poisson', 'power_divergence', 'powerlaw', 'powerlognorm', 'powernorm', 'ppcc_max', 'ppcc_plot', 'probplot', 'randint', 'random_correlation', 'rankdata', 'ranksums', 'rayleigh', 'rdist', 'recipinvgauss', 'reciprocal', 'relfreq', 'rice', 'rv_continuous', 'rv_discrete', 'rv_histogram', 'rvs_ratio_uniforms', 'scoreatpercentile', 'sem', 'semicircular', 'shapiro', 'siegelslopes', 'sigmaclip']\n"
     ]
    }
   ],
   "source": [
    "# check some of the different funtions/methods available in stats module\n",
    "print([x for x in dir(stats) if not x.startswith('__') and not x.startswith('_')][150:200])"
   ]
  },
  {
   "cell_type": "code",
   "execution_count": 10,
   "id": "ecfbde9b-1ea9-40f5-af61-aac9c554931f",
   "metadata": {},
   "outputs": [
    {
     "data": {
      "text/plain": [
       "array([[-0.32756448,  0.99851645,  0.93713624,  0.25731645, -0.1765305 ],\n",
       "       [-0.3549481 , -0.91111146, -0.15017307,  0.44068439,  0.94587471],\n",
       "       [-0.32381033,  0.53700619, -0.03794572, -2.30608901,  0.52042591],\n",
       "       [-0.43404454, -0.10120722, -1.27277023,  0.13020974, -1.57276031],\n",
       "       [ 0.46408637,  1.20900592, -0.87720035, -2.38570925,  1.16808789]])"
      ]
     },
     "metadata": {},
     "output_type": "display_data"
    },
    {
     "name": "stdout",
     "output_type": "stream",
     "text": [
      "variable a is type:  <class 'numpy.ndarray'>\n",
      "shape of array is:  (5, 5)\n"
     ]
    }
   ],
   "source": [
    "# create normal random variable \n",
    "a = stats.norm.rvs(size=(5,5))\n",
    "\n",
    "# display array\n",
    "display(a)\n",
    "\n",
    "# print variable type\n",
    "print('variable a is type: ', type(a))\n",
    "\n",
    "# print shape \n",
    "print('shape of array is: ', a.shape)\n",
    "\n"
   ]
  },
  {
   "cell_type": "markdown",
   "id": "9025ed9a-2078-4f09-b87f-e1945e05fd8b",
   "metadata": {},
   "source": [
    "##### Descriptie statistics"
   ]
  },
  {
   "cell_type": "code",
   "execution_count": 11,
   "id": "670e471f-1a5b-4432-9535-8d7e0ab49e28",
   "metadata": {},
   "outputs": [],
   "source": [
    "# set random seed for reproducibility\n",
    "np.random.seed(42)"
   ]
  },
  {
   "cell_type": "code",
   "execution_count": 12,
   "id": "fb6944a1-4633-41d4-9037-61de5952b259",
   "metadata": {},
   "outputs": [],
   "source": [
    "# Generate 1000 student's T distribution random samples\n",
    "# for more reading on T distribition\n",
    "# https://www.investopedia.com/terms/t/tdistribution.asp\n",
    "a = stats.t.rvs(10, size=1000)"
   ]
  },
  {
   "cell_type": "code",
   "execution_count": 13,
   "id": "8cfbb36a-c700-410d-8cde-82a41d04e6c1",
   "metadata": {},
   "outputs": [
    {
     "name": "stdout",
     "output_type": "stream",
     "text": [
      "['T', 'all', 'any', 'argmax', 'argmin', 'argpartition', 'argsort', 'astype', 'base', 'byteswap', 'choose', 'clip', 'compress', 'conj', 'conjugate', 'copy', 'ctypes', 'cumprod', 'cumsum', 'data', 'diagonal', 'dot', 'dtype', 'dump', 'dumps', 'fill', 'flags', 'flat', 'flatten', 'getfield', 'imag', 'item', 'itemset', 'itemsize', 'max', 'mean', 'min', 'nbytes', 'ndim', 'newbyteorder', 'nonzero', 'partition', 'prod', 'ptp', 'put', 'ravel', 'real', 'repeat', 'reshape', 'resize', 'round', 'searchsorted', 'setfield', 'setflags', 'shape', 'size', 'sort', 'squeeze', 'std', 'strides', 'sum', 'swapaxes', 'take', 'tobytes', 'tofile', 'tolist', 'tostring', 'trace', 'transpose', 'var', 'view']\n"
     ]
    }
   ],
   "source": [
    "print([x for x in dir(a) if not x.startswith('__') and not x.startswith('_')])"
   ]
  },
  {
   "cell_type": "code",
   "execution_count": 14,
   "id": "6c756a5c-cd7b-49ed-92ca-610131f04096",
   "metadata": {},
   "outputs": [
    {
     "name": "stdout",
     "output_type": "stream",
     "text": [
      "mean of observations: -0.02473291726931078\n",
      "min value of observations: -4.472953407828721\n",
      "max value of observations: 5.482947945852735\n",
      "standard deviation: 1.1189943288810529\n"
     ]
    }
   ],
   "source": [
    "# explore methods and compute descriptive statistics\n",
    "print(f'mean of observations: {a.mean()}')\n",
    "print(f'min value of observations: {a.min()}')\n",
    "print(f'max value of observations: {a.max()}')\n",
    "print(f'standard deviation: {a.std()}')  "
   ]
  },
  {
   "cell_type": "code",
   "execution_count": 15,
   "id": "992534ed-00bd-49f1-8c36-176a98f0a7dc",
   "metadata": {},
   "outputs": [
    {
     "name": "stdout",
     "output_type": "stream",
     "text": [
      "DescribeResult(nobs=1000, minmax=(-4.472953407828721, 5.482947945852735), mean=-0.02473291726931078, variance=1.2534017097777357, skewness=0.10190607481461128, kurtosis=0.8509242708727482)\n"
     ]
    }
   ],
   "source": [
    "print(stats.describe(a))"
   ]
  },
  {
   "cell_type": "markdown",
   "id": "aac9970e-af35-42ba-9e5b-90c3d8eebc19",
   "metadata": {},
   "source": [
    "## MatPlotLib\n",
    "[Matplotlib](https://matplotlib.org/) is a comprehensive library for creating static, animated, and interactive visualizations in Python."
   ]
  },
  {
   "cell_type": "code",
   "execution_count": 16,
   "id": "c48be6c5-2881-4497-836a-355e52aaca0b",
   "metadata": {},
   "outputs": [],
   "source": [
    "import matplotlib.pyplot as plt"
   ]
  },
  {
   "cell_type": "code",
   "execution_count": 17,
   "id": "612bb435-4b55-4031-a8cd-11a443941d2f",
   "metadata": {},
   "outputs": [
    {
     "name": "stdout",
     "output_type": "stream",
     "text": [
      "['LogFormatterExponent', 'LogFormatterMathtext', 'LogLocator', 'MaxNLocator', 'MultipleLocator', 'Normalize', 'NullFormatter', 'NullLocator', 'Number', 'PolarAxes', 'Polygon', 'Rectangle', 'ScalarFormatter', 'Slider', 'Subplot', 'SubplotTool', 'Text', 'TickHelper', 'Widget', 'acorr', 'angle_spectrum', 'annotate', 'arrow', 'autoscale', 'autumn', 'axes', 'axhline', 'axhspan', 'axis', 'axvline']\n"
     ]
    }
   ],
   "source": [
    "# see some of the functions inside plt\n",
    "print([x for x in dir(plt) if not x.startswith('__') and not x.startswith('_')][20:50])"
   ]
  },
  {
   "cell_type": "code",
   "execution_count": 18,
   "id": "9a465a66-9cd4-4b98-add8-bda0f6513193",
   "metadata": {},
   "outputs": [
    {
     "name": "stdout",
     "output_type": "stream",
     "text": [
      "data points: 95\n",
      "first 10 data points: [0.  0.1 0.2 0.3 0.4 0.5 0.6 0.7 0.8 0.9]\n"
     ]
    }
   ],
   "source": [
    "# compute x and y coordinates for points on a sine curve\n",
    "x = np.arange(0,3 * np.pi, 0.1)\n",
    "print(f'data points: {len(x)}')\n",
    "print(f'first 10 data points: {x[:10]}')"
   ]
  },
  {
   "cell_type": "code",
   "execution_count": 19,
   "id": "e76c1591-18b1-4299-be13-f5cb03530df2",
   "metadata": {},
   "outputs": [
    {
     "data": {
      "text/plain": [
       "array([0.        , 0.09983342, 0.19866933, 0.29552021, 0.38941834,\n",
       "       0.47942554, 0.56464247, 0.64421769, 0.71735609, 0.78332691])"
      ]
     },
     "execution_count": 19,
     "metadata": {},
     "output_type": "execute_result"
    }
   ],
   "source": [
    "y = np.sin(x)\n",
    "y[:10]"
   ]
  },
  {
   "cell_type": "code",
   "execution_count": 20,
   "id": "4268e13f-44dd-4b08-92d5-2e3fdb92964d",
   "metadata": {},
   "outputs": [
    {
     "data": {
      "image/png": "[encoded data removed]",
      "text/plain": [
       "<Figure size 432x288 with 1 Axes>"
      ]
     },
     "metadata": {
      "needs_background": "light"
     },
     "output_type": "display_data"
    }
   ],
   "source": [
    "plt.plot(x,y)\n",
    "plt.show()"
   ]
  },
  {
   "cell_type": "code",
   "execution_count": 21,
   "id": "6a01c3fd-21bb-47a3-9c76-d98fb2174f42",
   "metadata": {},
   "outputs": [
    {
     "data": {
      "image/png": "[encoded data removed]",
      "text/plain": [
       "<Figure size 432x288 with 1 Axes>"
      ]
     },
     "metadata": {
      "needs_background": "light"
     },
     "output_type": "display_data"
    }
   ],
   "source": [
    "# Compute the x and y coordinates for points on sine and cosine curves\n",
    "x = np.arange(0, 3 * np.pi, 0.1)\n",
    "y_sin = np.sin(x)\n",
    "y_cos = np.cos(x)\n",
    "\n",
    "# Plot the points using matplotlib\n",
    "plt.plot(x, y_sin)\n",
    "plt.plot(x, y_cos)\n",
    "plt.xlabel('x axis label')\n",
    "plt.ylabel('y axis label')\n",
    "plt.title('Sine and Cosine')\n",
    "plt.legend(['Sine', 'Cosine'])\n",
    "plt.show()"
   ]
  },
  {
   "cell_type": "code",
   "execution_count": 22,
   "id": "ee40b8a7-b816-46ae-b865-f27de9741692",
   "metadata": {},
   "outputs": [
    {
     "data": {
      "image/png": "[encoded data removed]",
      "text/plain": [
       "<Figure size 432x288 with 2 Axes>"
      ]
     },
     "metadata": {
      "needs_background": "light"
     },
     "output_type": "display_data"
    }
   ],
   "source": [
    "# Compute the x and y coordinates for points on sine and cosine curves\n",
    "x = np.arange(0, 3 * np.pi, 0.1)\n",
    "y_sin = np.sin(x)\n",
    "y_cos = np.cos(x)\n",
    "\n",
    "# Set up a subplot grid that has height 2 and width 1,\n",
    "# and set the first such subplot as active.\n",
    "plt.subplot(2, 1, 1)\n",
    "\n",
    "# Make the first plot\n",
    "plt.plot(x, y_sin)\n",
    "plt.title('Sine')\n",
    "\n",
    "# Set the second subplot as active, and make the second plot.\n",
    "plt.subplot(2, 1, 2)\n",
    "plt.plot(x, y_cos)\n",
    "plt.title('Cosine')\n",
    "\n",
    "# Show the figure.\n",
    "plt.show()"
   ]
  },
  {
   "cell_type": "markdown",
   "id": "36350f1a-354a-40a5-b90d-7d0b47804efd",
   "metadata": {},
   "source": [
    "## Seaborn\n",
    "Seaborn is complimentary to Matplotlib and it specifically targets statistical data visualization. But it goes even further than that: Seaborn extends Matplotlib and makes generating visualizations convenient"
   ]
  },
  {
   "cell_type": "markdown",
   "id": "07e86cdc-8c0a-4e3f-ac5e-d523141cc2cd",
   "metadata": {},
   "source": [
    "##### Scatterplot"
   ]
  },
  {
   "cell_type": "code",
   "execution_count": 23,
   "id": "e1958b4c-0f05-4556-903b-44bbe5989792",
   "metadata": {},
   "outputs": [],
   "source": [
    "# import packages \n",
    "import seaborn as sns\n",
    "import pandas as pd"
   ]
  },
  {
   "cell_type": "code",
   "execution_count": 24,
   "id": "18696452-f109-4b9b-ad51-f9a1cd2f1915",
   "metadata": {},
   "outputs": [],
   "source": [
    "# store the url string thats hosts csv file \n",
    "url = \"https://raw.githubusercontent.com/tamalmuk21/Stat_with_python/master/stat/Cartwheeldata.csv\""
   ]
  },
  {
   "cell_type": "code",
   "execution_count": 25,
   "id": "f5763b23-a974-49fa-90bb-aec16b91c5de",
   "metadata": {},
   "outputs": [],
   "source": [
    "# read csv file and store as a DataFrame\n",
    "df = pd.read_csv(url)"
   ]
  },
  {
   "cell_type": "code",
   "execution_count": 26,
   "id": "57133b65-2678-487b-b492-b957685b3318",
   "metadata": {},
   "outputs": [
    {
     "data": {
      "text/html": [
       "<div>\n",
       "<style scoped>\n",
       "    .dataframe tbody tr th:only-of-type {\n",
       "        vertical-align: middle;\n",
       "    }\n",
       "\n",
       "    .dataframe tbody tr th {\n",
       "        vertical-align: top;\n",
       "    }\n",
       "\n",
       "    .dataframe thead th {\n",
       "        text-align: right;\n",
       "    }\n",
       "</style>\n",
       "<table border=\"1\" class=\"dataframe\">\n",
       "  <thead>\n",
       "    <tr style=\"text-align: right;\">\n",
       "      <th></th>\n",
       "      <th>ID</th>\n",
       "      <th>Age</th>\n",
       "      <th>Gender</th>\n",
       "      <th>GenderGroup</th>\n",
       "      <th>Glasses</th>\n",
       "      <th>GlassesGroup</th>\n",
       "      <th>Height</th>\n",
       "      <th>Wingspan</th>\n",
       "      <th>CWDistance</th>\n",
       "      <th>Complete</th>\n",
       "      <th>CompleteGroup</th>\n",
       "      <th>Score</th>\n",
       "    </tr>\n",
       "  </thead>\n",
       "  <tbody>\n",
       "    <tr>\n",
       "      <th>0</th>\n",
       "      <td>1</td>\n",
       "      <td>56</td>\n",
       "      <td>F</td>\n",
       "      <td>1</td>\n",
       "      <td>Y</td>\n",
       "      <td>1</td>\n",
       "      <td>62.0</td>\n",
       "      <td>61.0</td>\n",
       "      <td>79</td>\n",
       "      <td>Y</td>\n",
       "      <td>1</td>\n",
       "      <td>7</td>\n",
       "    </tr>\n",
       "    <tr>\n",
       "      <th>1</th>\n",
       "      <td>2</td>\n",
       "      <td>26</td>\n",
       "      <td>F</td>\n",
       "      <td>1</td>\n",
       "      <td>Y</td>\n",
       "      <td>1</td>\n",
       "      <td>62.0</td>\n",
       "      <td>60.0</td>\n",
       "      <td>70</td>\n",
       "      <td>Y</td>\n",
       "      <td>1</td>\n",
       "      <td>8</td>\n",
       "    </tr>\n",
       "    <tr>\n",
       "      <th>2</th>\n",
       "      <td>3</td>\n",
       "      <td>33</td>\n",
       "      <td>F</td>\n",
       "      <td>1</td>\n",
       "      <td>Y</td>\n",
       "      <td>1</td>\n",
       "      <td>66.0</td>\n",
       "      <td>64.0</td>\n",
       "      <td>85</td>\n",
       "      <td>Y</td>\n",
       "      <td>1</td>\n",
       "      <td>7</td>\n",
       "    </tr>\n",
       "    <tr>\n",
       "      <th>3</th>\n",
       "      <td>4</td>\n",
       "      <td>39</td>\n",
       "      <td>F</td>\n",
       "      <td>1</td>\n",
       "      <td>N</td>\n",
       "      <td>0</td>\n",
       "      <td>64.0</td>\n",
       "      <td>63.0</td>\n",
       "      <td>87</td>\n",
       "      <td>Y</td>\n",
       "      <td>1</td>\n",
       "      <td>10</td>\n",
       "    </tr>\n",
       "    <tr>\n",
       "      <th>4</th>\n",
       "      <td>5</td>\n",
       "      <td>27</td>\n",
       "      <td>M</td>\n",
       "      <td>2</td>\n",
       "      <td>N</td>\n",
       "      <td>0</td>\n",
       "      <td>73.0</td>\n",
       "      <td>75.0</td>\n",
       "      <td>72</td>\n",
       "      <td>N</td>\n",
       "      <td>0</td>\n",
       "      <td>4</td>\n",
       "    </tr>\n",
       "  </tbody>\n",
       "</table>\n",
       "</div>"
      ],
      "text/plain": [
       "   ID  Age Gender  GenderGroup Glasses  GlassesGroup  Height  Wingspan  \\\n",
       "0   1   56      F            1       Y             1    62.0      61.0   \n",
       "1   2   26      F            1       Y             1    62.0      60.0   \n",
       "2   3   33      F            1       Y             1    66.0      64.0   \n",
       "3   4   39      F            1       N             0    64.0      63.0   \n",
       "4   5   27      M            2       N             0    73.0      75.0   \n",
       "\n",
       "   CWDistance Complete  CompleteGroup  Score  \n",
       "0          79        Y              1      7  \n",
       "1          70        Y              1      8  \n",
       "2          85        Y              1      7  \n",
       "3          87        Y              1     10  \n",
       "4          72        N              0      4  "
      ]
     },
     "execution_count": 26,
     "metadata": {},
     "output_type": "execute_result"
    }
   ],
   "source": [
    "# lets take a look at some of the data \n",
    "df.head()"
   ]
  },
  {
   "cell_type": "code",
   "execution_count": 27,
   "id": "976b7603-e56e-4ecc-a7ef-4be74f8adc7b",
   "metadata": {},
   "outputs": [
    {
     "data": {
      "text/html": [
       "<div>\n",
       "<style scoped>\n",
       "    .dataframe tbody tr th:only-of-type {\n",
       "        vertical-align: middle;\n",
       "    }\n",
       "\n",
       "    .dataframe tbody tr th {\n",
       "        vertical-align: top;\n",
       "    }\n",
       "\n",
       "    .dataframe thead th {\n",
       "        text-align: right;\n",
       "    }\n",
       "</style>\n",
       "<table border=\"1\" class=\"dataframe\">\n",
       "  <thead>\n",
       "    <tr style=\"text-align: right;\">\n",
       "      <th></th>\n",
       "      <th>Age</th>\n",
       "      <th>Gender</th>\n",
       "      <th>GenderGroup</th>\n",
       "      <th>Glasses</th>\n",
       "      <th>GlassesGroup</th>\n",
       "      <th>Height</th>\n",
       "      <th>Wingspan</th>\n",
       "      <th>CWDistance</th>\n",
       "      <th>Complete</th>\n",
       "      <th>CompleteGroup</th>\n",
       "      <th>Score</th>\n",
       "    </tr>\n",
       "    <tr>\n",
       "      <th>ID</th>\n",
       "      <th></th>\n",
       "      <th></th>\n",
       "      <th></th>\n",
       "      <th></th>\n",
       "      <th></th>\n",
       "      <th></th>\n",
       "      <th></th>\n",
       "      <th></th>\n",
       "      <th></th>\n",
       "      <th></th>\n",
       "      <th></th>\n",
       "    </tr>\n",
       "  </thead>\n",
       "  <tbody>\n",
       "    <tr>\n",
       "      <th>1</th>\n",
       "      <td>56</td>\n",
       "      <td>F</td>\n",
       "      <td>1</td>\n",
       "      <td>Y</td>\n",
       "      <td>1</td>\n",
       "      <td>62.0</td>\n",
       "      <td>61.0</td>\n",
       "      <td>79</td>\n",
       "      <td>Y</td>\n",
       "      <td>1</td>\n",
       "      <td>7</td>\n",
       "    </tr>\n",
       "    <tr>\n",
       "      <th>2</th>\n",
       "      <td>26</td>\n",
       "      <td>F</td>\n",
       "      <td>1</td>\n",
       "      <td>Y</td>\n",
       "      <td>1</td>\n",
       "      <td>62.0</td>\n",
       "      <td>60.0</td>\n",
       "      <td>70</td>\n",
       "      <td>Y</td>\n",
       "      <td>1</td>\n",
       "      <td>8</td>\n",
       "    </tr>\n",
       "    <tr>\n",
       "      <th>3</th>\n",
       "      <td>33</td>\n",
       "      <td>F</td>\n",
       "      <td>1</td>\n",
       "      <td>Y</td>\n",
       "      <td>1</td>\n",
       "      <td>66.0</td>\n",
       "      <td>64.0</td>\n",
       "      <td>85</td>\n",
       "      <td>Y</td>\n",
       "      <td>1</td>\n",
       "      <td>7</td>\n",
       "    </tr>\n",
       "    <tr>\n",
       "      <th>4</th>\n",
       "      <td>39</td>\n",
       "      <td>F</td>\n",
       "      <td>1</td>\n",
       "      <td>N</td>\n",
       "      <td>0</td>\n",
       "      <td>64.0</td>\n",
       "      <td>63.0</td>\n",
       "      <td>87</td>\n",
       "      <td>Y</td>\n",
       "      <td>1</td>\n",
       "      <td>10</td>\n",
       "    </tr>\n",
       "    <tr>\n",
       "      <th>5</th>\n",
       "      <td>27</td>\n",
       "      <td>M</td>\n",
       "      <td>2</td>\n",
       "      <td>N</td>\n",
       "      <td>0</td>\n",
       "      <td>73.0</td>\n",
       "      <td>75.0</td>\n",
       "      <td>72</td>\n",
       "      <td>N</td>\n",
       "      <td>0</td>\n",
       "      <td>4</td>\n",
       "    </tr>\n",
       "  </tbody>\n",
       "</table>\n",
       "</div>"
      ],
      "text/plain": [
       "    Age Gender  GenderGroup Glasses  GlassesGroup  Height  Wingspan  \\\n",
       "ID                                                                    \n",
       "1    56      F            1       Y             1    62.0      61.0   \n",
       "2    26      F            1       Y             1    62.0      60.0   \n",
       "3    33      F            1       Y             1    66.0      64.0   \n",
       "4    39      F            1       N             0    64.0      63.0   \n",
       "5    27      M            2       N             0    73.0      75.0   \n",
       "\n",
       "    CWDistance Complete  CompleteGroup  Score  \n",
       "ID                                             \n",
       "1           79        Y              1      7  \n",
       "2           70        Y              1      8  \n",
       "3           85        Y              1      7  \n",
       "4           87        Y              1     10  \n",
       "5           72        N              0      4  "
      ]
     },
     "execution_count": 27,
     "metadata": {},
     "output_type": "execute_result"
    }
   ],
   "source": [
    "df.set_index('ID', drop = True, inplace = True)\n",
    "df.head()"
   ]
  },
  {
   "cell_type": "code",
   "execution_count": 28,
   "id": "499bf224-ca21-4abb-8048-cfd350f78fdd",
   "metadata": {},
   "outputs": [
    {
     "data": {
      "image/png": "[encoded data removed]",
      "text/plain": [
       "<Figure size 360x360 with 1 Axes>"
      ]
     },
     "metadata": {
      "needs_background": "light"
     },
     "output_type": "display_data"
    }
   ],
   "source": [
    "# Create scatterplot and fit regression model\n",
    "sns.lmplot(x='Wingspan', y = 'CWDistance', data=df)\n",
    "plt.show()"
   ]
  },
  {
   "cell_type": "code",
   "execution_count": 29,
   "id": "2af5d8c7-589f-4857-82a1-a7e2ce3fa248",
   "metadata": {},
   "outputs": [
    {
     "data": {
      "image/png": "[encoded data removed]",
      "text/plain": [
       "<Figure size 404.875x360 with 1 Axes>"
      ]
     },
     "metadata": {
      "needs_background": "light"
     },
     "output_type": "display_data"
    }
   ],
   "source": [
    "# Scatterplot arguments\n",
    "sns.lmplot(x='Wingspan', y='CWDistance', data=df,\n",
    "           fit_reg=True, # No regression line\n",
    "           hue='Gender')   # Color by evolution stage\n",
    "\n",
    "plt.show()"
   ]
  },
  {
   "cell_type": "code",
   "execution_count": 30,
   "id": "807e0f62-715e-4996-b8eb-2917618cf2b4",
   "metadata": {},
   "outputs": [
    {
     "data": {
      "image/png": "[encoded data removed]",
      "text/plain": [
       "<Figure size 404.875x360 with 1 Axes>"
      ]
     },
     "metadata": {
      "needs_background": "light"
     },
     "output_type": "display_data"
    }
   ],
   "source": [
    "# Scatterplot arguments\n",
    "sns.lmplot(x='Wingspan', y='CWDistance', data=df,\n",
    "           fit_reg=False, # No regression line\n",
    "           hue='Gender')   # Color by evolution stage\n",
    "\n",
    "plt.show()"
   ]
  },
  {
   "cell_type": "code",
   "execution_count": 31,
   "id": "431a470a-ee18-4bd6-b389-3cc6d85b9ba3",
   "metadata": {},
   "outputs": [
    {
     "data": {
      "image/png": "[encoded data removed]",
      "text/plain": [
       "<Figure size 432x288 with 1 Axes>"
      ]
     },
     "metadata": {
      "needs_background": "light"
     },
     "output_type": "display_data"
    }
   ],
   "source": [
    "# Construct Cartwheel distance plot\n",
    "# Draw a categorical scatterplot with non-overlapping points.\n",
    "sns.swarmplot(x=\"Gender\", y=\"CWDistance\", data=df)\n",
    "\n",
    "plt.show()"
   ]
  },
  {
   "cell_type": "markdown",
   "id": "d932d55a-d436-4ddf-a078-97d5788c971a",
   "metadata": {},
   "source": [
    "##### Boxplots"
   ]
  },
  {
   "cell_type": "code",
   "execution_count": 32,
   "id": "b911d4de-b44e-45e8-a8ca-d35899c638bc",
   "metadata": {},
   "outputs": [
    {
     "data": {
      "image/png": "[encoded data removed]",
      "text/plain": [
       "<Figure size 432x288 with 1 Axes>"
      ]
     },
     "metadata": {
      "needs_background": "light"
     },
     "output_type": "display_data"
    }
   ],
   "source": [
    "sns.boxplot(data=df.loc[:,[\"Age\", \"Height\", \"Wingspan\", \"CWDistance\", \"Score\"]])\n",
    "plt.show()"
   ]
  },
  {
   "cell_type": "code",
   "execution_count": 33,
   "id": "07c77059-b57f-44b1-8136-95c0ff18b81a",
   "metadata": {},
   "outputs": [
    {
     "data": {
      "text/html": [
       "<div>\n",
       "<style scoped>\n",
       "    .dataframe tbody tr th:only-of-type {\n",
       "        vertical-align: middle;\n",
       "    }\n",
       "\n",
       "    .dataframe tbody tr th {\n",
       "        vertical-align: top;\n",
       "    }\n",
       "\n",
       "    .dataframe thead th {\n",
       "        text-align: right;\n",
       "    }\n",
       "</style>\n",
       "<table border=\"1\" class=\"dataframe\">\n",
       "  <thead>\n",
       "    <tr style=\"text-align: right;\">\n",
       "      <th></th>\n",
       "      <th>Age</th>\n",
       "      <th>Gender</th>\n",
       "      <th>GenderGroup</th>\n",
       "      <th>Glasses</th>\n",
       "      <th>GlassesGroup</th>\n",
       "      <th>Height</th>\n",
       "      <th>Wingspan</th>\n",
       "      <th>CWDistance</th>\n",
       "      <th>Complete</th>\n",
       "      <th>CompleteGroup</th>\n",
       "      <th>Score</th>\n",
       "    </tr>\n",
       "    <tr>\n",
       "      <th>ID</th>\n",
       "      <th></th>\n",
       "      <th></th>\n",
       "      <th></th>\n",
       "      <th></th>\n",
       "      <th></th>\n",
       "      <th></th>\n",
       "      <th></th>\n",
       "      <th></th>\n",
       "      <th></th>\n",
       "      <th></th>\n",
       "      <th></th>\n",
       "    </tr>\n",
       "  </thead>\n",
       "  <tbody>\n",
       "    <tr>\n",
       "      <th>5</th>\n",
       "      <td>27</td>\n",
       "      <td>M</td>\n",
       "      <td>2</td>\n",
       "      <td>N</td>\n",
       "      <td>0</td>\n",
       "      <td>73.0</td>\n",
       "      <td>75.0</td>\n",
       "      <td>72</td>\n",
       "      <td>N</td>\n",
       "      <td>0</td>\n",
       "      <td>4</td>\n",
       "    </tr>\n",
       "    <tr>\n",
       "      <th>6</th>\n",
       "      <td>24</td>\n",
       "      <td>M</td>\n",
       "      <td>2</td>\n",
       "      <td>N</td>\n",
       "      <td>0</td>\n",
       "      <td>75.0</td>\n",
       "      <td>71.0</td>\n",
       "      <td>81</td>\n",
       "      <td>N</td>\n",
       "      <td>0</td>\n",
       "      <td>3</td>\n",
       "    </tr>\n",
       "    <tr>\n",
       "      <th>7</th>\n",
       "      <td>28</td>\n",
       "      <td>M</td>\n",
       "      <td>2</td>\n",
       "      <td>N</td>\n",
       "      <td>0</td>\n",
       "      <td>75.0</td>\n",
       "      <td>76.0</td>\n",
       "      <td>107</td>\n",
       "      <td>Y</td>\n",
       "      <td>1</td>\n",
       "      <td>10</td>\n",
       "    </tr>\n",
       "    <tr>\n",
       "      <th>9</th>\n",
       "      <td>29</td>\n",
       "      <td>M</td>\n",
       "      <td>2</td>\n",
       "      <td>Y</td>\n",
       "      <td>1</td>\n",
       "      <td>74.0</td>\n",
       "      <td>73.0</td>\n",
       "      <td>106</td>\n",
       "      <td>N</td>\n",
       "      <td>0</td>\n",
       "      <td>5</td>\n",
       "    </tr>\n",
       "    <tr>\n",
       "      <th>11</th>\n",
       "      <td>30</td>\n",
       "      <td>M</td>\n",
       "      <td>2</td>\n",
       "      <td>Y</td>\n",
       "      <td>1</td>\n",
       "      <td>69.5</td>\n",
       "      <td>66.0</td>\n",
       "      <td>96</td>\n",
       "      <td>Y</td>\n",
       "      <td>1</td>\n",
       "      <td>6</td>\n",
       "    </tr>\n",
       "  </tbody>\n",
       "</table>\n",
       "</div>"
      ],
      "text/plain": [
       "    Age Gender  GenderGroup Glasses  GlassesGroup  Height  Wingspan  \\\n",
       "ID                                                                    \n",
       "5    27      M            2       N             0    73.0      75.0   \n",
       "6    24      M            2       N             0    75.0      71.0   \n",
       "7    28      M            2       N             0    75.0      76.0   \n",
       "9    29      M            2       Y             1    74.0      73.0   \n",
       "11   30      M            2       Y             1    69.5      66.0   \n",
       "\n",
       "    CWDistance Complete  CompleteGroup  Score  \n",
       "ID                                             \n",
       "5           72        N              0      4  \n",
       "6           81        N              0      3  \n",
       "7          107        Y              1     10  \n",
       "9          106        N              0      5  \n",
       "11          96        Y              1      6  "
      ]
     },
     "execution_count": 33,
     "metadata": {},
     "output_type": "execute_result"
    }
   ],
   "source": [
    "# Filter df down to only male\n",
    "# show first five records\n",
    "df[df['Gender']=='M'].head()"
   ]
  },
  {
   "cell_type": "code",
   "execution_count": 34,
   "id": "36a12e61-e918-43d0-9aca-11d271268b3c",
   "metadata": {},
   "outputs": [
    {
     "data": {
      "text/html": [
       "<div>\n",
       "<style scoped>\n",
       "    .dataframe tbody tr th:only-of-type {\n",
       "        vertical-align: middle;\n",
       "    }\n",
       "\n",
       "    .dataframe tbody tr th {\n",
       "        vertical-align: top;\n",
       "    }\n",
       "\n",
       "    .dataframe thead th {\n",
       "        text-align: right;\n",
       "    }\n",
       "</style>\n",
       "<table border=\"1\" class=\"dataframe\">\n",
       "  <thead>\n",
       "    <tr style=\"text-align: right;\">\n",
       "      <th></th>\n",
       "      <th>Gender</th>\n",
       "      <th>Age</th>\n",
       "      <th>Wingspan</th>\n",
       "    </tr>\n",
       "    <tr>\n",
       "      <th>ID</th>\n",
       "      <th></th>\n",
       "      <th></th>\n",
       "      <th></th>\n",
       "    </tr>\n",
       "  </thead>\n",
       "  <tbody>\n",
       "    <tr>\n",
       "      <th>5</th>\n",
       "      <td>M</td>\n",
       "      <td>27</td>\n",
       "      <td>75.0</td>\n",
       "    </tr>\n",
       "    <tr>\n",
       "      <th>6</th>\n",
       "      <td>M</td>\n",
       "      <td>24</td>\n",
       "      <td>71.0</td>\n",
       "    </tr>\n",
       "    <tr>\n",
       "      <th>7</th>\n",
       "      <td>M</td>\n",
       "      <td>28</td>\n",
       "      <td>76.0</td>\n",
       "    </tr>\n",
       "    <tr>\n",
       "      <th>9</th>\n",
       "      <td>M</td>\n",
       "      <td>29</td>\n",
       "      <td>73.0</td>\n",
       "    </tr>\n",
       "    <tr>\n",
       "      <th>11</th>\n",
       "      <td>M</td>\n",
       "      <td>30</td>\n",
       "      <td>66.0</td>\n",
       "    </tr>\n",
       "  </tbody>\n",
       "</table>\n",
       "</div>"
      ],
      "text/plain": [
       "   Gender  Age  Wingspan\n",
       "ID                      \n",
       "5       M   27      75.0\n",
       "6       M   24      71.0\n",
       "7       M   28      76.0\n",
       "9       M   29      73.0\n",
       "11      M   30      66.0"
      ]
     },
     "execution_count": 34,
     "metadata": {},
     "output_type": "execute_result"
    }
   ],
   "source": [
    "# Filter df down to only male and specific columns\n",
    "# show first five records \n",
    "df[df['Gender']=='M'][['Gender','Age','Wingspan']].head()"
   ]
  },
  {
   "cell_type": "code",
   "execution_count": 35,
   "id": "10a53472-b07d-4151-8224-96843c176cc1",
   "metadata": {},
   "outputs": [
    {
     "data": {
      "image/png": "[encoded data removed]",
      "text/plain": [
       "<Figure size 432x288 with 1 Axes>"
      ]
     },
     "metadata": {
      "needs_background": "light"
     },
     "output_type": "display_data"
    }
   ],
   "source": [
    "# Male Boxplot\n",
    "sns.boxplot(data=df[df['Gender']=='M'])\n",
    "plt.show()"
   ]
  },
  {
   "cell_type": "code",
   "execution_count": 36,
   "id": "45b482fe-90ab-4873-9fc6-12fe94c0e98d",
   "metadata": {},
   "outputs": [
    {
     "data": {
      "image/png": "[encoded data removed]",
      "text/plain": [
       "<Figure size 432x288 with 1 Axes>"
      ]
     },
     "metadata": {
      "needs_background": "light"
     },
     "output_type": "display_data"
    }
   ],
   "source": [
    "sns.boxplot(data=df[df['Gender']=='M'][[\"Age\", \"Height\", \"Wingspan\", \"CWDistance\", \"Score\"]])\n",
    "plt.show()"
   ]
  },
  {
   "cell_type": "code",
   "execution_count": 37,
   "id": "34e4492a-2687-4167-b76b-64015e7c25af",
   "metadata": {},
   "outputs": [
    {
     "data": {
      "image/png": "[encoded data removed]",
      "text/plain": [
       "<Figure size 432x288 with 1 Axes>"
      ]
     },
     "metadata": {
      "needs_background": "light"
     },
     "output_type": "display_data"
    }
   ],
   "source": [
    "# Female boxplot \n",
    "sns.boxplot(data=df[df['Gender']=='F'][['Age','Height','Wingspan','CWDistance','Score']])\n",
    "plt.show()"
   ]
  },
  {
   "cell_type": "code",
   "execution_count": 38,
   "id": "21fc43c5-f720-46b6-bec5-cd2d3f423ac8",
   "metadata": {},
   "outputs": [
    {
     "data": {
      "image/png": "[encoded data removed]",
      "text/plain": [
       "<Figure size 432x288 with 1 Axes>"
      ]
     },
     "metadata": {
      "needs_background": "light"
     },
     "output_type": "display_data"
    }
   ],
   "source": [
    "# Male Boxplot, CWDistance\n",
    "sns.boxplot(data=df.loc[df['Gender'] == 'M', [\"CWDistance\"]])\n",
    "\n",
    "plt.show()"
   ]
  },
  {
   "cell_type": "code",
   "execution_count": 39,
   "id": "896982c7-2dd6-4a9a-a197-2af5ffbc864b",
   "metadata": {},
   "outputs": [
    {
     "data": {
      "image/png": "[encoded data removed]",
      "text/plain": [
       "<Figure size 432x288 with 1 Axes>"
      ]
     },
     "metadata": {
      "needs_background": "light"
     },
     "output_type": "display_data"
    }
   ],
   "source": [
    "# Female Boxplot, CWDistance\n",
    "sns.boxplot(data=df.loc[df['Gender'] == 'F', [\"CWDistance\"]])\n",
    "\n",
    "plt.show()"
   ]
  },
  {
   "cell_type": "markdown",
   "id": "4b8aa213-3c8f-4d93-b596-5e5ac4a69d57",
   "metadata": {},
   "source": [
    "##### Histogram"
   ]
  },
  {
   "cell_type": "code",
   "execution_count": 40,
   "id": "b47faf64-1edf-4dcc-9a1f-cc7bd98e7044",
   "metadata": {},
   "outputs": [
    {
     "data": {
      "image/png": "[encoded data removed]",
      "text/plain": [
       "<Figure size 432x288 with 1 Axes>"
      ]
     },
     "metadata": {
      "needs_background": "light"
     },
     "output_type": "display_data"
    }
   ],
   "source": [
    "# Histogram plot\n",
    "sns.distplot(df['CWDistance'])\n",
    "plt.show()"
   ]
  },
  {
   "cell_type": "code",
   "execution_count": 41,
   "id": "47621535-7142-4b22-b868-74a3970f8e8b",
   "metadata": {},
   "outputs": [
    {
     "data": {
      "image/png": "[encoded data removed]",
      "text/plain": [
       "<Figure size 432x288 with 1 Axes>"
      ]
     },
     "metadata": {
      "needs_background": "light"
     },
     "output_type": "display_data"
    }
   ],
   "source": [
    "sns.distplot(df[df['Gender']=='M']['CWDistance'])\n",
    "plt.show()"
   ]
  },
  {
   "cell_type": "code",
   "execution_count": 42,
   "id": "177a7735-5b1e-4144-99d9-8bf0e21ceb19",
   "metadata": {},
   "outputs": [
    {
     "data": {
      "image/png": "[encoded data removed]",
      "text/plain": [
       "<Figure size 432x288 with 1 Axes>"
      ]
     },
     "metadata": {
      "needs_background": "light"
     },
     "output_type": "display_data"
    }
   ],
   "source": [
    "sns.distplot(df['Wingspan'])\n",
    "plt.show()"
   ]
  },
  {
   "cell_type": "markdown",
   "id": "5f6c12b5-2e63-4b7d-b4f7-e3d7dd587100",
   "metadata": {},
   "source": [
    "##### Count plot"
   ]
  },
  {
   "cell_type": "code",
   "execution_count": 43,
   "id": "c2c9c7bd-2f12-4558-ba9c-f63005bbc3b8",
   "metadata": {},
   "outputs": [
    {
     "data": {
      "image/png": "[encoded data removed]",
      "text/plain": [
       "<Figure size 432x288 with 1 Axes>"
      ]
     },
     "metadata": {
      "needs_background": "light"
     },
     "output_type": "display_data"
    }
   ],
   "source": [
    "# Count Plot (a.k.a. Bar Plot)\n",
    "sns.countplot(x='Gender', data=df)\n",
    " \n",
    "plt.xticks(rotation=-45)\n",
    "\n",
    "plt.show()"
   ]
  },
  {
   "cell_type": "code",
   "execution_count": 44,
   "id": "cc3ce79b-9310-40ca-8d88-7ee697519627",
   "metadata": {},
   "outputs": [
    {
     "data": {
      "image/png": "[encoded data removed]",
      "text/plain": [
       "<Figure size 432x288 with 1 Axes>"
      ]
     },
     "metadata": {
      "needs_background": "light"
     },
     "output_type": "display_data"
    }
   ],
   "source": [
    "sns.countplot(x='Score', data=df[df['Gender']=='F'])\n",
    "plt.title('Male Scores')\n",
    "plt.show()"
   ]
  }
 ],
 "metadata": {
  "kernelspec": {
   "display_name": "Python 3",
   "language": "python",
   "name": "python3"
  },
  "language_info": {
   "codemirror_mode": {
    "name": "ipython",
    "version": 3
   },
   "file_extension": ".py",
   "mimetype": "text/x-python",
   "name": "python",
   "nbconvert_exporter": "python",
   "pygments_lexer": "ipython3",
   "version": "3.7.4"
  }
 },
 "nbformat": 4,
 "nbformat_minor": 5
}
