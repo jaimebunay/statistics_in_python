{
 "cells": [
  {
   "cell_type": "markdown",
   "id": "77ecf061-f1dd-49d7-94ec-9b4d72b19826",
   "metadata": {},
   "source": [
    "# Linear and Logistic Regression Using NHANES Dataset\n",
    "---\n",
    "## Linear Regression"
   ]
  },
  {
   "cell_type": "code",
   "execution_count": null,
   "id": "3928c425-6034-4eb3-be7e-f483abe2956b",
   "metadata": {},
   "outputs": [],
   "source": []
  },
  {
   "cell_type": "code",
   "execution_count": 1,
   "id": "8cfeecea-42e9-4eab-be22-35d9b405f2ae",
   "metadata": {},
   "outputs": [],
   "source": [
    "# Imports \n",
    "import pandas as pd \n",
    "import numpy as np \n",
    "from pathlib import Path\n",
    "import seaborn as sns\n",
    "import matplotlib.pyplot as plt\n",
    "import statsmodels.api as sm\n",
    "%matplotlib inline"
   ]
  },
  {
   "cell_type": "code",
   "execution_count": 2,
   "id": "87443453-1bf0-4f1d-b14f-cda53c72138c",
   "metadata": {},
   "outputs": [
    {
     "data": {
      "text/html": [
       "<div>\n",
       "<style scoped>\n",
       "    .dataframe tbody tr th:only-of-type {\n",
       "        vertical-align: middle;\n",
       "    }\n",
       "\n",
       "    .dataframe tbody tr th {\n",
       "        vertical-align: top;\n",
       "    }\n",
       "\n",
       "    .dataframe thead th {\n",
       "        text-align: right;\n",
       "    }\n",
       "</style>\n",
       "<table border=\"1\" class=\"dataframe\">\n",
       "  <thead>\n",
       "    <tr style=\"text-align: right;\">\n",
       "      <th></th>\n",
       "      <th>systolic_blood_pressure</th>\n",
       "      <th>age</th>\n",
       "      <th>gender</th>\n",
       "      <th>race_hispanic_origin</th>\n",
       "      <th>education_level</th>\n",
       "      <th>body_mass_index</th>\n",
       "      <th>smoke</th>\n",
       "    </tr>\n",
       "  </thead>\n",
       "  <tbody>\n",
       "    <tr>\n",
       "      <th>5445</th>\n",
       "      <td>132.0</td>\n",
       "      <td>38</td>\n",
       "      <td>female</td>\n",
       "      <td>Non-Hispanic Black</td>\n",
       "      <td>Some college</td>\n",
       "      <td>29.5</td>\n",
       "      <td>yes</td>\n",
       "    </tr>\n",
       "    <tr>\n",
       "      <th>5505</th>\n",
       "      <td>124.0</td>\n",
       "      <td>56</td>\n",
       "      <td>female</td>\n",
       "      <td>Mexican American</td>\n",
       "      <td>Some college</td>\n",
       "      <td>27.8</td>\n",
       "      <td>yes</td>\n",
       "    </tr>\n",
       "    <tr>\n",
       "      <th>3281</th>\n",
       "      <td>142.0</td>\n",
       "      <td>55</td>\n",
       "      <td>male</td>\n",
       "      <td>Non-Hispanic White</td>\n",
       "      <td>Some college</td>\n",
       "      <td>27.1</td>\n",
       "      <td>no</td>\n",
       "    </tr>\n",
       "    <tr>\n",
       "      <th>748</th>\n",
       "      <td>124.0</td>\n",
       "      <td>42</td>\n",
       "      <td>male</td>\n",
       "      <td>Non-Hispanic Black</td>\n",
       "      <td>Highschool graduate</td>\n",
       "      <td>43.4</td>\n",
       "      <td>no</td>\n",
       "    </tr>\n",
       "    <tr>\n",
       "      <th>1829</th>\n",
       "      <td>106.0</td>\n",
       "      <td>33</td>\n",
       "      <td>male</td>\n",
       "      <td>Mexican American</td>\n",
       "      <td>Less than 9th grade</td>\n",
       "      <td>25.6</td>\n",
       "      <td>yes</td>\n",
       "    </tr>\n",
       "  </tbody>\n",
       "</table>\n",
       "</div>"
      ],
      "text/plain": [
       "      systolic_blood_pressure  age  gender race_hispanic_origin  \\\n",
       "5445                    132.0   38  female   Non-Hispanic Black   \n",
       "5505                    124.0   56  female     Mexican American   \n",
       "3281                    142.0   55    male   Non-Hispanic White   \n",
       "748                     124.0   42    male   Non-Hispanic Black   \n",
       "1829                    106.0   33    male     Mexican American   \n",
       "\n",
       "          education_level  body_mass_index smoke  \n",
       "5445         Some college             29.5   yes  \n",
       "5505         Some college             27.8   yes  \n",
       "3281         Some college             27.1    no  \n",
       "748   Highschool graduate             43.4    no  \n",
       "1829  Less than 9th grade             25.6   yes  "
      ]
     },
     "execution_count": 2,
     "metadata": {},
     "output_type": "execute_result"
    }
   ],
   "source": [
    "# import NHANES data\n",
    "df = pd.read_csv(Path('data/nhanes_2015_2016.csv'))\n",
    "\n",
    "# keep only columns that will be used through out this notebook\n",
    "df = df[[\"BPXSY1\", \"RIDAGEYR\", \"RIAGENDR\", \"RIDRETH1\", \"DMDEDUC2\", \"BMXBMI\", \"SMQ020\"]] \n",
    "\n",
    "# rename columns with meaninful names\n",
    "df.columns = ['systolic_blood_pressure', 'age','gender','race_hispanic_origin', 'education_level', 'body_mass_index', 'smoke']\n",
    "\n",
    "# change interger codes to string values\n",
    "df.gender = df.gender.replace({1:'male', 2:'female'})\n",
    "df.race_hispanic_origin = df.race_hispanic_origin.replace({1:'Mexican American', 2:'Other Hispanic',3:'Non-Hispanic White',\n",
    "                                                        4:'Non-Hispanic Black', 5:'Other Race'})\n",
    "df.education_level = df.education_level.replace({1:'Less than 9th grade', 2:'9-11th grade', 3:'Highschool graduate',4:'Some college',\n",
    "                                                5:'College graduate', 7:'Refused',9:\"Don't Know\"})\n",
    "df.smoke = df.smoke.replace({1:'yes', 2:'no', 7:np.nan, 9:np.nan})\n",
    "\n",
    "# drop all null values\n",
    "df.dropna(inplace = True)\n",
    "df.sample(5)"
   ]
  },
  {
   "cell_type": "markdown",
   "id": "dd37abad-6e76-46fb-a477-4f82a8be6f87",
   "metadata": {},
   "source": [
    "## Question 1:\n",
    "\n",
    "Use linear regression to relate the expected body mass index (BMI) to a person's age.\n",
    "\n",
    "[Reference](https://www.statsmodels.org/dev/generated/statsmodels.regression.linear_model.OLS.from_formula.html)"
   ]
  },
  {
   "cell_type": "code",
   "execution_count": 3,
   "id": "696debf7-a16f-44ec-8f15-daa07d9a002c",
   "metadata": {},
   "outputs": [
    {
     "name": "stdout",
     "output_type": "stream",
     "text": [
      "['HC0_se', 'HC1_se', 'HC2_se', 'HC3_se', 'aic', 'bic', 'bse', 'centered_tss', 'compare_f_test', 'compare_lm_test', 'compare_lr_test', 'condition_number', 'conf_int', 'conf_int_el', 'cov_HC0', 'cov_HC1', 'cov_HC2', 'cov_HC3', 'cov_kwds', 'cov_params', 'cov_type', 'df_model', 'df_resid', 'eigenvals', 'el_test', 'ess', 'f_pvalue', 'f_test', 'fittedvalues', 'fvalue', 'get_influence', 'get_prediction', 'get_robustcov_results', 'initialize', 'k_constant', 'llf', 'load', 'model', 'mse_model', 'mse_resid', 'mse_total', 'nobs', 'normalized_cov_params', 'outlier_test', 'params', 'predict', 'pvalues', 'remove_data', 'resid', 'resid_pearson', 'rsquared', 'rsquared_adj', 'save', 'scale', 'ssr', 'summary', 'summary2', 't_test', 't_test_pairwise', 'tvalues', 'uncentered_tss', 'use_t', 'wald_test', 'wald_test_terms', 'wresid']\n"
     ]
    }
   ],
   "source": [
    "# instantiate ordinary least squares model and fit\n",
    "model = sm.OLS.from_formula('body_mass_index ~ age', data=df).fit()\n",
    "\n",
    "# check methods attached to the model\n",
    "print([x for x in dir(model) if not x.startswith('_') and not x.startswith('_')])"
   ]
  },
  {
   "cell_type": "code",
   "execution_count": 4,
   "id": "1282149d-c0c9-4d7b-a281-5631be2d4229",
   "metadata": {},
   "outputs": [
    {
     "data": {
      "text/html": [
       "<table class=\"simpletable\">\n",
       "<caption>OLS Regression Results</caption>\n",
       "<tr>\n",
       "  <th>Dep. Variable:</th>     <td>body_mass_index</td> <th>  R-squared:         </th> <td>   0.000</td> \n",
       "</tr>\n",
       "<tr>\n",
       "  <th>Model:</th>                   <td>OLS</td>       <th>  Adj. R-squared:    </th> <td>   0.000</td> \n",
       "</tr>\n",
       "<tr>\n",
       "  <th>Method:</th>             <td>Least Squares</td>  <th>  F-statistic:       </th> <td>   2.520</td> \n",
       "</tr>\n",
       "<tr>\n",
       "  <th>Date:</th>             <td>Fri, 17 Dec 2021</td> <th>  Prob (F-statistic):</th>  <td> 0.112</td>  \n",
       "</tr>\n",
       "<tr>\n",
       "  <th>Time:</th>                 <td>01:13:06</td>     <th>  Log-Likelihood:    </th> <td> -17124.</td> \n",
       "</tr>\n",
       "<tr>\n",
       "  <th>No. Observations:</th>      <td>  5094</td>      <th>  AIC:               </th> <td>3.425e+04</td>\n",
       "</tr>\n",
       "<tr>\n",
       "  <th>Df Residuals:</th>          <td>  5092</td>      <th>  BIC:               </th> <td>3.427e+04</td>\n",
       "</tr>\n",
       "<tr>\n",
       "  <th>Df Model:</th>              <td>     1</td>      <th>                     </th>     <td> </td>    \n",
       "</tr>\n",
       "<tr>\n",
       "  <th>Covariance Type:</th>      <td>nonrobust</td>    <th>                     </th>     <td> </td>    \n",
       "</tr>\n",
       "</table>\n",
       "<table class=\"simpletable\">\n",
       "<tr>\n",
       "      <td></td>         <th>coef</th>     <th>std err</th>      <th>t</th>      <th>P>|t|</th>  <th>[0.025</th>    <th>0.975]</th>  \n",
       "</tr>\n",
       "<tr>\n",
       "  <th>Intercept</th> <td>   29.0754</td> <td>    0.291</td> <td>  100.077</td> <td> 0.000</td> <td>   28.506</td> <td>   29.645</td>\n",
       "</tr>\n",
       "<tr>\n",
       "  <th>age</th>       <td>    0.0088</td> <td>    0.006</td> <td>    1.587</td> <td> 0.112</td> <td>   -0.002</td> <td>    0.020</td>\n",
       "</tr>\n",
       "</table>\n",
       "<table class=\"simpletable\">\n",
       "<tr>\n",
       "  <th>Omnibus:</th>       <td>934.389</td> <th>  Durbin-Watson:     </th> <td>   2.011</td>\n",
       "</tr>\n",
       "<tr>\n",
       "  <th>Prob(Omnibus):</th> <td> 0.000</td>  <th>  Jarque-Bera (JB):  </th> <td>1852.985</td>\n",
       "</tr>\n",
       "<tr>\n",
       "  <th>Skew:</th>          <td> 1.105</td>  <th>  Prob(JB):          </th> <td>    0.00</td>\n",
       "</tr>\n",
       "<tr>\n",
       "  <th>Kurtosis:</th>      <td> 4.962</td>  <th>  Cond. No.          </th> <td>    156.</td>\n",
       "</tr>\n",
       "</table><br/><br/>Notes:<br/>[1] Standard Errors assume that the covariance matrix of the errors is correctly specified."
      ],
      "text/plain": [
       "<class 'statsmodels.iolib.summary.Summary'>\n",
       "\"\"\"\n",
       "                            OLS Regression Results                            \n",
       "==============================================================================\n",
       "Dep. Variable:        body_mass_index   R-squared:                       0.000\n",
       "Model:                            OLS   Adj. R-squared:                  0.000\n",
       "Method:                 Least Squares   F-statistic:                     2.520\n",
       "Date:                Fri, 17 Dec 2021   Prob (F-statistic):              0.112\n",
       "Time:                        01:13:06   Log-Likelihood:                -17124.\n",
       "No. Observations:                5094   AIC:                         3.425e+04\n",
       "Df Residuals:                    5092   BIC:                         3.427e+04\n",
       "Df Model:                           1                                         \n",
       "Covariance Type:            nonrobust                                         \n",
       "==============================================================================\n",
       "                 coef    std err          t      P>|t|      [0.025      0.975]\n",
       "------------------------------------------------------------------------------\n",
       "Intercept     29.0754      0.291    100.077      0.000      28.506      29.645\n",
       "age            0.0088      0.006      1.587      0.112      -0.002       0.020\n",
       "==============================================================================\n",
       "Omnibus:                      934.389   Durbin-Watson:                   2.011\n",
       "Prob(Omnibus):                  0.000   Jarque-Bera (JB):             1852.985\n",
       "Skew:                           1.105   Prob(JB):                         0.00\n",
       "Kurtosis:                       4.962   Cond. No.                         156.\n",
       "==============================================================================\n",
       "\n",
       "Notes:\n",
       "[1] Standard Errors assume that the covariance matrix of the errors is correctly specified.\n",
       "\"\"\""
      ]
     },
     "execution_count": 4,
     "metadata": {},
     "output_type": "execute_result"
    }
   ],
   "source": [
    "# print model summary\n",
    "model.summary()"
   ]
  },
  {
   "cell_type": "code",
   "execution_count": 5,
   "id": "d36869e3-43ed-4b84-bb05-b99dddad9bd3",
   "metadata": {},
   "outputs": [
    {
     "data": {
      "text/plain": [
       "Index(['Intercept', 'age'], dtype='object')"
      ]
     },
     "execution_count": 5,
     "metadata": {},
     "output_type": "execute_result"
    }
   ],
   "source": [
    "# print parameter names\n",
    "model.params.keys()"
   ]
  },
  {
   "cell_type": "code",
   "execution_count": 6,
   "id": "2152f99c-46f7-4014-83ba-686ab3a19da0",
   "metadata": {},
   "outputs": [
    {
     "name": "stdout",
     "output_type": "stream",
     "text": [
      "R-square: 0.000494668079549121\n",
      "average bmi difference between a 40 year old and a 20 year old: 0.1756872046290707\n"
     ]
    }
   ],
   "source": [
    "# print R_squared\n",
    "print(f'R-square: {model.rsquared}')\n",
    "\n",
    "# print average bmi difference between 40 year old and 20 year old \n",
    "print(f'average bmi difference between a 40 year old and a 20 year old: {model.params.age*40 - model.params.age*20}')"
   ]
  },
  {
   "cell_type": "markdown",
   "id": "d6ec449b-e548-4c05-84ae-d2c5e1bf59ac",
   "metadata": {},
   "source": [
    "Based on the coefficients for this model, we can estimate that body mass index increases on average by `0.0088` units for each additional year in age. So based on this model an older person should have greater body mass than a younger person. However, if we look into the `p-value` we can determine that this *difference is not statistically significat* \n",
    "\n",
    "$H_0: U_1 - U_2 = 0\\ \\ \\ Difference\\ is\\ not\\ statistically\\ significant$   \n",
    "\n",
    "$H_a: U_1 - U_2 \\neq 0\\ \\ \\ Difference\\ is\\ statistically\\ significant$ \n",
    "\n",
    "Since this will be a two tail test we divide the p-value into two:  $\\ \\ 0.112 \\div 2 = 0.056$. \n",
    "\n",
    "At the  95% confidence level, we will fail to reject the null hypothesis. We are not confident that there is a relationship between age and body mass index based on this data. Furthermore, `R-square` score implies that the fraction of the variation in body mass index explained by age is close to zero."
   ]
  },
  {
   "cell_type": "code",
   "execution_count": null,
   "id": "2a81d6a6-630b-47af-b278-7b12612f1e8b",
   "metadata": {},
   "outputs": [],
   "source": []
  }
 ],
 "metadata": {
  "kernelspec": {
   "display_name": "Python 3",
   "language": "python",
   "name": "python3"
  },
  "language_info": {
   "codemirror_mode": {
    "name": "ipython",
    "version": 3
   },
   "file_extension": ".py",
   "mimetype": "text/x-python",
   "name": "python",
   "nbconvert_exporter": "python",
   "pygments_lexer": "ipython3",
   "version": "3.7.5"
  }
 },
 "nbformat": 4,
 "nbformat_minor": 5
}
