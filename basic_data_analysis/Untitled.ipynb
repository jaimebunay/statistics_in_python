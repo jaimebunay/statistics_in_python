{
 "cells": [
  {
   "cell_type": "markdown",
   "id": "aed475e1-e914-426f-af23-72d739a7d42b",
   "metadata": {},
   "source": [
    "# Confidence Intervals"
   ]
  },
  {
   "cell_type": "markdown",
   "id": "412398f0-ab57-4bf2-b3c7-e4d8a5ea188d",
   "metadata": {},
   "source": [
    "## Confidence Intervals Using NHANES Data\n",
    "--- \n",
    "### Formulas:\n",
    "##### Confidence Intervals\n",
    "**Population Proportions**\n",
    "\n",
    "$\\hat{p} \\pm z^**\\sqrt{\\frac{\\hat{p}(1-\\hat{p})}{n}} $\n",
    "\n",
    "**Population Mean**\n",
    "\n",
    "$\\bar{x} \\pm t^* * (\\frac{\\sigma}{\\sqrt{n}}) $\n",
    "\n",
    "\n",
    "\n"
   ]
  },
  {
   "cell_type": "code",
   "execution_count": 2,
   "id": "a9984683-3af0-450f-9355-40d946e15c87",
   "metadata": {},
   "outputs": [],
   "source": [
    "# Initial Imports\n",
    "import pandas as pd\n",
    "import numpy as np\n",
    "import matplotlib.pyplot as plt\n",
    "import seaborn as sns \n",
    "import statsmodels.api as sm\n",
    "%matplotlib inline"
   ]
  },
  {
   "cell_type": "code",
   "execution_count": null,
   "id": "1fe0e33f-7159-4b70-92d5-514eb648e9f8",
   "metadata": {},
   "outputs": [],
   "source": []
  }
 ],
 "metadata": {
  "kernelspec": {
   "display_name": "Python 3",
   "language": "python",
   "name": "python3"
  },
  "language_info": {
   "codemirror_mode": {
    "name": "ipython",
    "version": 3
   },
   "file_extension": ".py",
   "mimetype": "text/x-python",
   "name": "python",
   "nbconvert_exporter": "python",
   "pygments_lexer": "ipython3",
   "version": "3.7.5"
  }
 },
 "nbformat": 4,
 "nbformat_minor": 5
}
